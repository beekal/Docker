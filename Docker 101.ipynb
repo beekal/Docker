{
  "nbformat": 4,
  "nbformat_minor": 0,
  "metadata": {
    "kernelspec": {
      "display_name": "Python 3",
      "language": "python",
      "name": "python3"
    },
    "language_info": {
      "codemirror_mode": {
        "name": "ipython",
        "version": 3
      },
      "file_extension": ".py",
      "mimetype": "text/x-python",
      "name": "python",
      "nbconvert_exporter": "python",
      "pygments_lexer": "ipython3",
      "version": "3.5.3"
    },
    "colab": {
      "name": "Docker 101.ipynb",
      "provenance": [],
      "collapsed_sections": []
    }
  },
  "cells": [
    {
      "cell_type": "markdown",
      "metadata": {
        "id": "rW1UoeyHV_B6",
        "colab_type": "text"
      },
      "source": [
        "## Docker 101\n",
        "Basic Docker commands to get started easily.\n",
        "\n",
        "### Why  Docker ?\n",
        "- As a developer, I dont' want to worry about the machine setup problems.\n",
        "\n",
        "### 1.0 Image vs Container\n",
        "- Image can be  thougt of as a class while the Containers can be thought of as a object i.e you can create as many object from the image as you want.\n",
        "\n",
        "**Question** :  I do not want to download the big library 1GB each time from internet. How do I do it?\n",
        "Answer :  Download it and save it in the image. Not containers. Containers as in the case of objects are transient i.e whatever you do in a container will be lost once the container is closed. Hence you woul want todo any persistentthing in the images.\n",
        "\n",
        "**Question** : So if the container is not persistent, how do I persist my output after doing some processing ?\n",
        "Answer : You can use volumes. Volumes are like hdds and are persistent.\n"
      ]
    },
    {
      "cell_type": "markdown",
      "metadata": {
        "id": "67GSnrEEV_B9",
        "colab_type": "text"
      },
      "source": [
        "## Steps \n",
        "\n",
        "### 1. Download docker\n",
        "1. Download from : If you have windows home edition then you cannnot use the docker  in windows. Use ubuntu subsytem in that case.\n",
        "https://docs.docker.com/install/linux/docker-ce/ubuntu/\n",
        "\n",
        "```\n",
        "sudo apt-get update\n",
        "# Permit apt to use repository over https\n",
        "sudo apt-get install apt-transport-https ca-certificates  curl gnupg-agent software-properties-common\n",
        "# Add gpg key to prevent identity spoofing and accidentally installing wrong packages over https\n",
        "curl -fsSL https://download.docker.com/linux/ubuntu/gpg | sudo apt-key add -\n",
        "# VErify the key is correct, must out 9DC8 5822 9FC7 DD38 854A E2D8 8D81 803C 0EBF CD88\n",
        "sudo apt-key fingerprint 0EBFCD88\n",
        "# Add the repository to the canonical\n",
        "sudo add-apt-repository  \"deb [arch=amd64] https://download.docker.com/linux/ubuntu $(lsb_release -cs) stable\"\n",
        "sudo apt-get update\n",
        "# Install latest docker stable version\n",
        "sudo apt-get install docker-ce docker-ce-cli containerd.io\n",
        "#  Install specific  version, if running multiple docker repositories\n",
        "apt-cache madison docker-ce\n",
        "sudo apt-get install docker-ce-cli=5:18.09.1~3-0~ubuntu-bionic containerd.io \n",
        "\n",
        "# Check install if docker is installed\n",
        "docker --version\n",
        " \n",
        "```\n",
        "### 2 Run docker\n",
        "`docker run hello-world`\n",
        "\n",
        "\n",
        "### BASIC Docker cmds\n",
        "1. `docker ps -a` # display all running and exited docker containers\n",
        "You can see `CONTAINER ID        IMAGE` . where container_id indicates object created from the image. This means you can create multiple containers from the same image as you would do for the \n",
        "2.  `docker run --name custom_container_name hello-world` # Run with custom docker name for docker container\n",
        "3.  `docker run -i -t --name custom_ubuntu ubuntu bash` # Create the container from ubuntu image and run the bash interactively it. Can execute all linux cmds here\n",
        "4. `exit` # Exit  from the container\n",
        "5. `sudo docker images` # lists all the images locally available in your computer along with the . One adv is that you do not need to download the images, if it is contained in locally.\n",
        "  - to delete all images including exited ones must be deleted.\n",
        "  - `sudo docker rm nifty_varahamihira` #Remove docker container\n",
        "  - `sudo docker rmi image` # Remove docker image\n",
        "6. `sudo docker ps -a -f status=exited -q` # List all docker container filtered by status= exited with only the hash of the container  displaye\n",
        "7. `sudo docker rm $(sudo docker ps -a -f status=exited -q)` # Remove all dockers with the hash id as listed within the brace conditions\n",
        "8. ```sudo docker -i -t --name my_docker_ubuntu -v /home/bikal/Documents:/my_shared_folder ubuntu bash\n",
        "cd /my_shared_folder\n",
        "touch file_created_inside_docker.txt\n",
        "exit\n",
        "ls /home/bikal/Documents/ \n",
        " # Mount the local file to the docker. observe the file persisted.\n",
        "```\n",
        "create a container with the filesystem mounted. This way you can acess data across container and your host system and also can save docker processing results persistently to the file system.\n",
        "\n",
        "\n"
      ]
    },
    {
      "cell_type": "markdown",
      "metadata": {
        "id": "bdGSx5ZrV_B-",
        "colab_type": "text"
      },
      "source": [
        "# CREATE OWN DOCKER IMAGE\n",
        "1. Create a file called `Dockerfile`. FileName is case sensisitve and must be exact.\n",
        "```\n",
        "vi Dockerfile\n",
        "```\n",
        "1.  Add Commands\n",
        "```\n",
        "FROM ubuntu\n",
        "CMD echo \"Hello\"\n",
        "```\n",
        "2. `sudo docker build -t my_ubuntu_image . ` Build the docker file\n",
        "3. `sudo docker images` # list all images and you shall see your image now.\n",
        "4. `sudo docker run my_ubuntu_image` # you should see your \"Hello\" \n",
        "5. More complex docker cmds\n",
        "```\n",
        "FROM ubuntu\n",
        "RUN apt-get  upgrade && apt-get update && apt-get install -y python3\n",
        "```\n",
        "**IMP** :Why not new line but ands.  It's so hard to read.\n",
        "Answer : Although it's hard to read, you should do it in a single line because  docekr treats each line as a separate container within the container\n",
        "\n",
        "6. `sudo docker build -t my_ubuntu_image .` # rebuilds the docker image with changes\n",
        "7. `docker run -i -t my_ubuntu_image bash` # runs the new docker container from your custome image\n",
        "8. `python3`\n",
        "\n",
        "### Docker Hub : Like Git\n",
        "All docker images publicly available are listed here. We can create your own container from those images. Sth similar to how you use git. \n",
        "1. Git clone local ~= Create Docker container from image\n",
        "Ref: hub.docker.com\n",
        "\n"
      ]
    },
    {
      "cell_type": "markdown",
      "metadata": {
        "id": "xd2cM0wBhOuD",
        "colab_type": "text"
      },
      "source": [
        "# RUN YOUR PROJECT USING DOCKER\n",
        "- Load project from git \n",
        "- Run it\n",
        "```\n",
        "mkdir dummy_project\n",
        "cd dummy_project\n",
        "vi Dockerfile\n",
        "```\n",
        "2. Create your project in a github repo\n",
        "```\n",
        "from flask_cors import CORS\n",
        "from flask import Flask, jsonify, request\n",
        "#\n",
        "app = Flask(__name__, instance_relative_config=True)\n",
        "app.secret_key = \"\"\n",
        "CORS(app)\n",
        "#\n",
        "@app.route('/hello', methods=['GET'])\n",
        "def hello():    \n",
        "    return 'Hello from the dummy app'\n",
        "#\n",
        "if __name__ == \"__main__\":\n",
        "    app.run(host='0.0.0.0', port=8888)\n",
        "```\n",
        "\n",
        "3.  Add Commands\n",
        "\n",
        "```\n",
        "FROM ubuntu\n",
        "WORKDIR /dummy_app\n",
        "RUN apt-get update\n",
        "RUN apt-get install -qy python3\n",
        "RUN apt-get install -qy python3-pip\n",
        "RUN pip3 install Flask==0.12.2 & pip3 install Flask-Cors==3.0.3\n",
        "RUN apt-get install -qy git\n",
        "RUN git clone https://github.com/beekal/Docker.git\n",
        "CMD python3 Docker/app.py\n",
        "```\n",
        "\n",
        "2. `sudo docker build -t dummy_app . ` Build the docker file\n",
        "3. `sudo docker images` # list all images and you shall see your image now.\n",
        "4. `nohup sudo docker run  --publish 8000:8888 --name my_dummy_project dummy_project &` # forward traffic incoming on the host’s port 8000, to the container’s port 8080\n",
        "5. Test it `curl http://0.0.0.0:8000/hello `\n",
        "6. WOLA!. You have a dummy app running in a container.\n",
        "7. If you need to debug if sth is not running then you should use the terminal and its interactive mode to get inside the docker and try running the commands from the terminal. e.g `docker run -i -t --name custom_ubuntu ubuntu bash`\n",
        "5. `` More complex docker cmds\n",
        "```\n",
        "FROM ubuntu\n",
        "RUN apt-get  upgrade && apt-get update && apt-get install -y python3\n",
        "```\n"
      ]
    },
    {
      "cell_type": "markdown",
      "metadata": {
        "id": "kGa064Kz9d50",
        "colab_type": "text"
      },
      "source": [
        "# ScaleUp / Maintainance / Networking/ Securing\n",
        "- For scaling, networking, securing and maintaining your containerized applications you should try kubernetics\n",
        "\n",
        "REf: https://docs.docker.com/get-started/part3/\n",
        "\n"
      ]
    },
    {
      "cell_type": "markdown",
      "metadata": {
        "id": "9Frg6425V_B_",
        "colab_type": "text"
      },
      "source": [
        "REF :\n",
        "1. https://www.youtube.com/watch?v=JprTjTViaEA\n",
        "2. https://docs.docker.com/get-started/part2/\n",
        "3. https://docs.docker.com/install/linux/docker-ce/ubuntu/\n"
      ]
    }
  ]
}