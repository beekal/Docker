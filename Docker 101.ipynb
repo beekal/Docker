{
 "cells": [
  {
   "cell_type": "markdown",
   "metadata": {},
   "source": [
    "## Docker 101\n",
    "Basic Docker commands to get started easily.\n",
    "\n",
    "### Why  Docker ?\n",
    "- As a developer, I dont' want to worry about the machine setup problems.\n",
    "\n",
    "### 1.0 Image vs Container\n",
    "- Image can be  thougt of as a class while the Containers can be thought of as a object i.e you can create as many object from the image as you want.\n",
    "\n",
    "**Question** :  I do not want to download the big library 1GB each time from internet. How do I do it?\n",
    "Answer :  Download it and save it in the image. Not containers. Containers as in the case of objects are transient i.e whatever you do in a container will be lost once the container is closed. Hence you woul want todo any persistentthing in the images.\n",
    "\n",
    "**Question** : So if the container is not persistent, how do I persist my output after doing some processing ?\n",
    "Answer : You can use volumes. Volumes are like hdds and are persistent.\n"
   ]
  },
  {
   "cell_type": "markdown",
   "metadata": {},
   "source": [
    "## Steps \n",
    "\n",
    "### 1. Download docker\n",
    "1. Download from : If you have windows home edition then you cannnot use the docker  in windows. Use ubuntu subsytem in that case.\n",
    "https://docs.docker.com/install/linux/docker-ce/ubuntu/\n",
    "\n",
    "```\n",
    "sudo apt-get update\n",
    "sudo apt-get install docker-ce docker-ce-cli containerd.io\n",
    "apt-cache madison docker-ce\n",
    "sudo apt-get install docker-ce-cli=5:18.09.1~3-0~ubuntu-bionic containerd.io \n",
    "\n",
    "# Check install if docker is installed\n",
    "docker --version\n",
    " \n",
    "```\n",
    "### 2 Run docker\n",
    "`docker run hello-world`\n",
    "\n",
    "\n",
    "### BASIC Docker cmds\n",
    "1. `docker ps -a` # display all running and exited docker containers\n",
    "You can see `CONTAINER ID        IMAGE` . where container_id indicates object created from the image. This means you can create multiple containers from the same image as you would do for the \n",
    "2.  `docker run --name custom_container_name hello-world` # Run with custom docker name for docker container\n",
    "3.  `docker run -i -t --name custom_ubuntu ubuntu bash` # Create the container from ubuntu image and run the bash interactively it. Can execute all linux cmds here\n",
    "4. `exit` # Exit  from the container\n",
    "5. `sudo docker images` # lists all the images locally available in your computer along with the . One adv is that you do not need to download the images, if it is contained in locally.\n",
    "6. `sudo docker ps -a -f status=exited -q` # List all docker container filtered by status= exited with only the hash of the container  displaye\n",
    "7. `sudo docker rm $(sudo docker ps -a -f status=exited -q)` # Remove all dockers with the hash id as listed within the brace conditions\n",
    "8. ```sudo docker -i -t --name my_docker_ubuntu -v /home/bikal/Documents:/my_shared_folder ubuntu bash\n",
    "cd /my_shared_folder\n",
    "touch file_created_inside_docker.txt\n",
    "exit\n",
    "ls /home/bikal/Documents/  # observe the file persisted.\n",
    "```\n",
    "create a container with the filesystem mounted. This way you can acess data across container and your host system and also can save docker processing results persistently to the file system.\n",
    "\n",
    "\n"
   ]
  },
  {
   "cell_type": "markdown",
   "metadata": {},
   "source": [
    "# CREATE OWN DOCKER IMAGE\n",
    "1. Create a file called `Dockerfile`. FileName is case sensisitve and must be exact. Add Commands\n",
    "```\n",
    "FROM ubuntu\n",
    "CMD echo \"Hello\"\n",
    "```\n",
    "2. `sudo docker build -t my_ubuntu_image . ` Build the docker file\n",
    "3. `sudo docker images` # list all images and you shall see your image now.\n",
    "4. `sudo docker run my_ubuntu_image` # you should see your \"Hello\" \n",
    "5. More complex docker cmds\n",
    "```\n",
    "FROM ubuntu\n",
    "RUN apt-get  upgrade && apt-get update && apt-get install -y python3\n",
    "```\n",
    "**IMP** :Why not new line but ands.  It's so hard to read.\n",
    "Answer : Although it's hard to read, you should do it in a single line because  docekr treats each line as a separate container within the container\n",
    "\n",
    "6. `sudo docker build -t my_ubuntu_image .` # rebuilds the docker image with changes\n",
    "7. `docker run -i -t my_ubuntu_image bash` # runs the new docker container from your custome image\n",
    "8. `python3`\n",
    "\n",
    "### Docker Hub : Like Git\n",
    "All docker images publicly available are listed here. We can create your own container from those images. Sth similar to how you use git. \n",
    "1. Git clone local ~= Create Docker container from image\n",
    "Ref: hub.docker.com\n",
    "\n"
   ]
  },
  {
   "cell_type": "markdown",
   "metadata": {},
   "source": [
    "REF :\n",
    "1. https://www.youtube.com/watch?v=JprTjTViaEA"
   ]
  }
 ],
 "metadata": {
  "kernelspec": {
   "display_name": "Python 3",
   "language": "python",
   "name": "python3"
  },
  "language_info": {
   "codemirror_mode": {
    "name": "ipython",
    "version": 3
   },
   "file_extension": ".py",
   "mimetype": "text/x-python",
   "name": "python",
   "nbconvert_exporter": "python",
   "pygments_lexer": "ipython3",
   "version": "3.5.3"
  }
 },
 "nbformat": 4,
 "nbformat_minor": 2
}
